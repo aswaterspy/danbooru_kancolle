{
 "cells": [
  {
   "cell_type": "code",
   "execution_count": 1,
   "metadata": {},
   "outputs": [],
   "source": [
    "import requests\n",
    "import re\n",
    "import pandas as pd\n",
    "import urllib.parse\n",
    "import codecs\n",
    "import time\n",
    "from random import randint\n",
    "from pyquery import PyQuery as pq"
   ]
  },
  {
   "cell_type": "code",
   "execution_count": 2,
   "metadata": {},
   "outputs": [],
   "source": [
    "session_requests = requests.session()\n",
    "auth_token = None\n",
    "    \n",
    "login_url = 'https://danbooru.donmai.us/session/new'\n",
    "headers = {'user-agent':'Mozilla/5.0 (Windows NT 10.0; Win64; x64) AppleWebKit/537.36 (KHTML, like Gecko) Chrome/77.0.3865.90 Safari/537.36'}\n",
    "result = session_requests.get(login_url, headers = headers)\n",
    "\n",
    "login_page = pq(result.text)\n",
    "authenticity_token = urllib.parse.quote(login_page('input').attr('value'),safe='')\n",
    "#print(authenticity_token)\n",
    "\n",
    "login_data = {\n",
    "    'authenticity_token': authenticity_token,\n",
    "    'url': '',\n",
    "    'name': 'komeiji_nori',\n",
    "    'password': ,\n",
    "    'remember': '1',   \n",
    "    'commit': 'Submit'\n",
    "}\n",
    "\n",
    "resp = session_requests.post(url = 'https://danbooru.donmai.us/session', data = login_data, headers = headers)"
   ]
  },
  {
   "cell_type": "code",
   "execution_count": 3,
   "metadata": {},
   "outputs": [
    {
     "data": {
      "text/plain": [
       "{'长10炮酱': 'chou-10cm-hou-chan',\n",
       " '照月的长10炮酱': 'chou-10cm-hou-chan_%28teruzuki%27s%29',\n",
       " '初雪的长10炮酱': 'chou-10cm-hou-chan_%28hatsuzuki%27s%29',\n",
       " 'Z1': 'z1_leberecht_maass_%28kantai_collection%29',\n",
       " 'Z3': 'z3_max_schultz_%28kantai_collection%29',\n",
       " '伊8 (\"Hachi\")': 'i-8_%28kantai_collection%29',\n",
       " '伊19 (\"Iku\")': 'i-19_%28kantai_collection%29',\n",
       " '伊26 (\"Nimu\")': 'i-26_%28kantai_collection%29',\n",
       " '伊58 (\"Gouya\")': 'i-58_%28kantai_collection%29',\n",
       " '伊168 (\"Imuya\")': 'i-168_%28kantai_collection%29',\n",
       " '伊400 (\"Shion\")': 'i-400_%28kantai_collection%29',\n",
       " '伊401 (\"Shioi\")': 'i-401_%28kantai_collection%29',\n",
       " 'U-511 (\"Yuu\")': 'u-511_%28kantai_collection%29',\n",
       " '呂500 (\"Ro\")': 'ro-500_%28kantai_collection%29',\n",
       " '伊13 (\"Hitomi\")': 'i-13_%28kantai_collection%29',\n",
       " '伊14 (\"Iyo\")': 'i-14_%28kantai_collection%29',\n",
       " 'UIT-25 (\"Ui\")': 'uit-25_%28kantai_collection%29',\n",
       " '伊504 (\"Go\")': 'i-504_%28kantai_collection%29'}"
      ]
     },
     "execution_count": 3,
     "metadata": {},
     "output_type": "execute_result"
    }
   ],
   "source": [
    "dict_file = codecs.open('kantai_chara_dict_submarine_fix.txt', 'r', 'utf-8')\n",
    "chara_dict = {}\n",
    "\n",
    "for line in dict_file:\n",
    "    name_pair = (line[:-1]).split('\\t')\n",
    "    chara_dict[name_pair[0]] = name_pair[1]\n",
    "\n",
    "chara_dict"
   ]
  },
  {
   "cell_type": "code",
   "execution_count": 4,
   "metadata": {},
   "outputs": [],
   "source": [
    "def count_danbooru(key):\n",
    "    \n",
    "    output_dict = {}\n",
    "    parent_flag = ['all','parent%3Anone']\n",
    "    rating_flag = ['all','rating%3Aexplicit','rating%3Aquestionable','rating%3Asafe']\n",
    "    \n",
    "    for i in parent_flag:\n",
    "        for j in rating_flag:\n",
    "            \n",
    "            #build query url\n",
    "            chara_url = 'https://danbooru.donmai.us/counts/posts?tags=+-official_art'\n",
    "            if i != 'all':\n",
    "                chara_url = chara_url + '+' + i\n",
    "            if j != 'all':\n",
    "                chara_url = chara_url + '+' + j\n",
    "            if key != '島風':\n",
    "                chara_url = chara_url + '+' + chara_dict[key]\n",
    "            else:\n",
    "                chara_url = chara_url + '+' + chara_dict[key] + '+-shimakaze_%28kantai_collection%29_%28cosplay%29'\n",
    "\n",
    "            #get query url and count\n",
    "            chara_count_page = session_requests.get(chara_url)\n",
    "            chara_count_query = pq(chara_count_page.text)\n",
    "\n",
    "            for tag_div in chara_count_query('div'):\n",
    "                div_query = pq(tag_div)\n",
    "                div_id = div_query.attr('id')\n",
    "                if div_id == 'a-posts':\n",
    "                    count = div_query.remove('a').text()\n",
    "                    count = re.findall(r'\\d+', count)[0]\n",
    "\n",
    "            output_dict_key = (key, urllib.parse.unquote(i), urllib.parse.unquote(j))\n",
    "            output_dict[output_dict_key] = count\n",
    "    \n",
    "            # Waits before sending next request\n",
    "            time.sleep(1 + randint(0,10))\n",
    "            \n",
    "    return output_dict"
   ]
  },
  {
   "cell_type": "code",
   "execution_count": null,
   "metadata": {},
   "outputs": [],
   "source": [
    "final_result = {}\n",
    "\n",
    "for i in chara_dict:\n",
    "    a = count_danbooru(i)\n",
    "    final_result = {**final_result, **a}\n",
    "\n",
    "final_output_file = codecs.open('fixing_final.txt', 'w', 'utf-8')\n",
    "\n",
    "for i in final_result:\n",
    "    chara_name, parent_flag, ratings_flag = i\n",
    "    final_output_file.write('{}\\t{}\\t{}\\t{}\\n'.format(chara_name, parent_flag, ratings_flag, final_result[i]))\n",
    "\n",
    "final_output_file.close()"
   ]
  }
 ],
 "metadata": {
  "kernelspec": {
   "display_name": "Python 3",
   "language": "python",
   "name": "python3"
  },
  "language_info": {
   "codemirror_mode": {
    "name": "ipython",
    "version": 3
   },
   "file_extension": ".py",
   "mimetype": "text/x-python",
   "name": "python",
   "nbconvert_exporter": "python",
   "pygments_lexer": "ipython3",
   "version": "3.6.5"
  }
 },
 "nbformat": 4,
 "nbformat_minor": 2
}
